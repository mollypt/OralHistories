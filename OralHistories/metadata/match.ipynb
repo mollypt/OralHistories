{
 "cells": [
  {
   "cell_type": "code",
   "execution_count": null,
   "id": "initial_id",
   "metadata": {
    "collapsed": true
   },
   "outputs": [],
   "source": [
    "\"\"\"\n",
    "Match interview metadata with narrator metadata to build dataset\n",
    "\"\"\""
   ]
  },
  {
   "metadata": {
    "ExecuteTime": {
     "end_time": "2025-01-29T00:58:10.447656Z",
     "start_time": "2025-01-29T00:58:10.018877Z"
    }
   },
   "cell_type": "code",
   "source": [
    "import pandas as pd\n",
    "import csv"
   ],
   "id": "4e49e60f2c2b3f97",
   "outputs": [],
   "execution_count": 2
  },
  {
   "metadata": {
    "ExecuteTime": {
     "end_time": "2025-01-29T02:03:21.897879Z",
     "start_time": "2025-01-29T02:03:21.815359Z"
    }
   },
   "cell_type": "code",
   "source": [
    "df_bios = pd.read_csv(\"bios.csv\")\n",
    "df_meta = pd.read_csv(\"interview_metadata.csv\")\n",
    "\n",
    "narrators_meta = df_meta['Narrator'].to_list()\n",
    "narrators_bio = df_bios['Narrator'].to_list()\n",
    "\n",
    "interviewed = []\n",
    "for narr in narrators_meta:\n",
    "    names = narr.split(\",\")\n",
    "    for name in names:\n",
    "        interviewed.append(name)\n",
    "print(len(interviewed))\n",
    "    \n",
    "for narr in interviewed:\n",
    "    if narr not in narrators_bio:\n",
    "        print(narr)"
   ],
   "id": "3f98473987fb3cae",
   "outputs": [
    {
     "name": "stdout",
     "output_type": "stream",
     "text": [
      "1051\n",
      "Teresa Maebori\n",
      "James Omura\n",
      "Kan Yagi\n",
      "Michael Yoshii\n",
      "Robert Kimura\n",
      "Roy H. Matsumoto\n",
      "Robert Moriguchi\n",
      "Miki Maehara Rotman\n",
      "Miyo Moriuchi\n",
      "Paul Uyehara\n",
      "Hisaji Q. Sakai\n",
      "John Nakada\n",
      "Lucas Rotman\n",
      "Taka Mizote\n",
      "Jack Sameshima\n",
      "\n",
      "Noboru Richard Horikawa\n",
      "Lon Inaba\n",
      "Shiz Inaba\n",
      "George Kazuo Ikeda\n",
      "Masaru Ed Nakawatase\n",
      "Eiichi Edward Sakauye\n",
      "Nick Nagatani\n",
      "Ben Ohama\n",
      "Heidi Tsutakawa\n",
      "Chiyo Endo\n",
      "John A. (Jack) Svahn\n",
      "Mary Nomura\n",
      "Warren H. Watanabe\n",
      "Hitoshi Thomas Tamaki\n",
      "Gus J. Solomon\n",
      "Hiroshi Terry Terakawa\n",
      "Yoneko Watanabe Okamoto\n",
      "James Omura\n",
      "Alan Hisayoshi Okamoto\n",
      "Bill Hiroshi Shishima\n",
      "Hiroshi Uyehara\n",
      "Sue K. Embrey\n",
      "Taneyuki Dan Harada\n",
      "Mary Ishimoto Watanabe\n",
      "Massie Hinatsu\n",
      "Eiichi Edward Sakauye\n",
      "Nick Nagatani\n",
      "Minoru Endo\n"
     ]
    }
   ],
   "execution_count": 12
  },
  {
   "metadata": {},
   "cell_type": "code",
   "outputs": [],
   "execution_count": null,
   "source": "",
   "id": "31f9e86c4a3ffcb"
  }
 ],
 "metadata": {
  "kernelspec": {
   "display_name": "Python 3",
   "language": "python",
   "name": "python3"
  },
  "language_info": {
   "codemirror_mode": {
    "name": "ipython",
    "version": 2
   },
   "file_extension": ".py",
   "mimetype": "text/x-python",
   "name": "python",
   "nbconvert_exporter": "python",
   "pygments_lexer": "ipython2",
   "version": "2.7.6"
  }
 },
 "nbformat": 4,
 "nbformat_minor": 5
}
